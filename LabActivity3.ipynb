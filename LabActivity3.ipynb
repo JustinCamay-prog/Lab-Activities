{
  "nbformat": 4,
  "nbformat_minor": 0,
  "metadata": {
    "colab": {
      "name": "Untitled3.ipynb",
      "provenance": [],
      "authorship_tag": "ABX9TyMr4j/faEQCbYLBt3cCvLbt",
      "include_colab_link": true
    },
    "kernelspec": {
      "name": "python3",
      "display_name": "Python 3"
    }
  },
  "cells": [
    {
      "cell_type": "markdown",
      "metadata": {
        "id": "view-in-github",
        "colab_type": "text"
      },
      "source": [
        "<a href=\"https://colab.research.google.com/github/JustinCamay-prog/Lab-Activities/blob/main/LabActivity3.ipynb\" target=\"_parent\"><img src=\"https://colab.research.google.com/assets/colab-badge.svg\" alt=\"Open In Colab\"/></a>"
      ]
    },
    {
      "cell_type": "code",
      "metadata": {
        "colab": {
          "base_uri": "https://localhost:8080/",
          "height": 265
        },
        "id": "nQKZD_Ht-CJ4",
        "outputId": "6c22d39a-fe7a-466c-8afc-c744644df935"
      },
      "source": [
        "#Task 1\r\n",
        "\r\n",
        "import numpy as np\r\n",
        "import matplotlib.pyplot as plt\r\n",
        "\r\n",
        "V1 = np.array([-3,3])\r\n",
        "V2 = np.array([3,3])\r\n",
        "\r\n",
        "A = np.arange(-16,7,1)\r\n",
        "B = np.arange(-18,6,1)\r\n",
        "\r\n",
        "plt.scatter(A*V1[0],A*V1[1], color = 'r')\r\n",
        "plt.scatter(B*V2[0],B*V2[1], color = 'g')\r\n",
        "\r\n",
        "plt.axhline(y=0, color='k')\r\n",
        "plt.axvline(x=0, color='k')\r\n",
        "\r\n",
        "plt.grid()\r\n",
        "plt.show()"
      ],
      "execution_count": 13,
      "outputs": [
        {
          "output_type": "display_data",
          "data": {
            "image/png": "[encoded data removed]",
            "text/plain": [
              "<Figure size 432x288 with 1 Axes>"
            ]
          },
          "metadata": {
            "tags": [],
            "needs_background": "light"
          }
        }
      ]
    },
    {
      "cell_type": "code",
      "metadata": {
        "colab": {
          "base_uri": "https://localhost:8080/",
          "height": 265
        },
        "id": "B2Cdg4mp_IXE",
        "outputId": "bf55e93c-fa4d-4928-fe26-e714552e8fb8"
      },
      "source": [
        "#Task 2\r\n",
        "import numpy as np\r\n",
        "import matplotlib.pyplot as plt\r\n",
        "\r\n",
        "V1 = np.array([6,3])\r\n",
        "V2 = np.array([9,3])\r\n",
        "\r\n",
        "r = np.arange(-12,6)\r\n",
        "A, B = np.meshgrid(r,r)\r\n",
        "\r\n",
        "SpanRx = A*V1[0], + B*V2[0]\r\n",
        "SpanRy = A*V2[1], + B*V2[1]\r\n",
        "\r\n",
        "plt.scatter(SpanRx,SpanRy,s=25,alpha=0.50,color = 'y')\r\n",
        "plt.axhline(y=0, color='k')\r\n",
        "plt.axvline(x=0, color='k')\r\n",
        "plt.grid()\r\n",
        "plt.show()"
      ],
      "execution_count": 14,
      "outputs": [
        {
          "output_type": "display_data",
          "data": {
            "image/png": "[encoded data removed]",
            "text/plain": [
              "<Figure size 432x288 with 1 Axes>"
            ]
          },
          "metadata": {
            "tags": [],
            "needs_background": "light"
          }
        }
      ]
    }
  ]
}